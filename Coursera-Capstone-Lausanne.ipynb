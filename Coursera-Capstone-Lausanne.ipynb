{
 "cells": [
  {
   "cell_type": "code",
   "execution_count": 3,
   "metadata": {},
   "outputs": [],
   "source": [
    "import pandas as pd  # library for data analsysis\n",
    "pd.set_option('display.max_columns', None)\n",
    "pd.set_option('display.max_rows', None)\n",
    "\n",
    "import requests    # library to handle requests\n",
    "import urllib.request   # import the library we use to open URLs"
   ]
  },
  {
   "cell_type": "code",
   "execution_count": 4,
   "metadata": {},
   "outputs": [],
   "source": [
    "#conda install -c conda-forge geocoder\n",
    "#!conda install -c conda-forge geopy --yes \n",
    "import geocoder \n",
    "from geopy.geocoders import Nominatim      # convert an address into latitude and longitude values"
   ]
  },
  {
   "cell_type": "code",
   "execution_count": 59,
   "metadata": {},
   "outputs": [
    {
     "name": "stdout",
     "output_type": "stream",
     "text": [
      "Libraries imported.\n"
     ]
    }
   ],
   "source": [
    "import numpy as np # library to handle data in a vectorized manner\n",
    "\n",
    "import json # library to handle JSON files  \n",
    "from pandas.io.json import json_normalize      # tranform JSON file into a pandas dataframe\n",
    "\n",
    "# Matplotlib and associated plotting modules\n",
    "import matplotlib.cm as cm\n",
    "import matplotlib.colors as colors\n",
    "import matplotlib.pyplot as plt\n",
    "\n",
    "#!conda install -c conda-forge folium=0.5.0 --yes \n",
    "import folium # map rendering library\n",
    "from folium import plugins\n",
    "from folium.plugins import HeatMap\n",
    "\n",
    "# import k-means from clustering stage\n",
    "from sklearn.cluster import KMeans\n",
    "\n",
    "print('Libraries imported.')"
   ]
  },
  {
   "cell_type": "markdown",
   "metadata": {},
   "source": [
    "First a GET request for FourSquare API is constructed. Here, we find coffee places/ pubs near Lausanne center, in 1000 m radius. In general it's better to let requests to handle adding parameters to url than manually construct it."
   ]
  },
  {
   "cell_type": "code",
   "execution_count": 6,
   "metadata": {},
   "outputs": [
    {
     "name": "stdout",
     "output_type": "stream",
     "text": [
      "Your credentails:\n",
      "CLIENT_ID: NI1SJKPUBAZB0OIGM41FMTG2PPTGS3EGPZFXNJII5123QHOD\n",
      "CLIENT_SECRET:0KCYWQLKDLUXZH1GBIDUY1Y03Q0HSB13WTQ5R54GGIPEXASP\n"
     ]
    }
   ],
   "source": [
    "CLIENT_ID = 'NI1SJKPUBAZB0OIGM41FMTG2PPTGS3EGPZFXNJII5123QHOD' # my Foursquare ID\n",
    "CLIENT_SECRET = '0KCYWQLKDLUXZH1GBIDUY1Y03Q0HSB13WTQ5R54GGIPEXASP' # my Foursquare Secret\n",
    "VERSION = '20180605' # Foursquare API version\n",
    "LIMIT = 150 # A default Foursquare API limit value\n",
    "\n",
    "print('Your credentails:')\n",
    "print('CLIENT_ID: ' + CLIENT_ID)\n",
    "print('CLIENT_SECRET:' + CLIENT_SECRET)"
   ]
  },
  {
   "cell_type": "code",
   "execution_count": 7,
   "metadata": {},
   "outputs": [
    {
     "data": {
      "text/plain": [
       "'https://api.foursquare.com/v2/venues/explore?&client_id=NI1SJKPUBAZB0OIGM41FMTG2PPTGS3EGPZFXNJII5123QHOD&client_secret=0KCYWQLKDLUXZH1GBIDUY1Y03Q0HSB13WTQ5R54GGIPEXASP&v=20180605&near=Lausanne,&radius=1000&limit=150'"
      ]
     },
     "execution_count": 7,
     "metadata": {},
     "output_type": "execute_result"
    }
   ],
   "source": [
    "radius = 1000\n",
    "near = 'Lausanne'\n",
    "\n",
    "# create URL\n",
    "url = 'https://api.foursquare.com/v2/venues/explore?&client_id={}&client_secret={}&v={}&near={},&radius={}&limit={}'.format(\n",
    "    CLIENT_ID, \n",
    "    CLIENT_SECRET, \n",
    "    VERSION,\n",
    "    near,\n",
    "    radius, \n",
    "    LIMIT)\n",
    "\n",
    "url "
   ]
  },
  {
   "cell_type": "markdown",
   "metadata": {},
   "source": [
    "Let's send teh GET request"
   ]
  },
  {
   "cell_type": "code",
   "execution_count": 8,
   "metadata": {},
   "outputs": [],
   "source": [
    "results = requests.get(url).json()\n",
    "#results"
   ]
  },
  {
   "cell_type": "markdown",
   "metadata": {},
   "source": [
    "All the information that we need is in the items key."
   ]
  },
  {
   "cell_type": "code",
   "execution_count": 9,
   "metadata": {},
   "outputs": [],
   "source": [
    "# function that extracts the category of the venue\n",
    "def get_category_type(row):\n",
    "    try:\n",
    "        categories_list = row['categories']\n",
    "    except:\n",
    "        categories_list = row['venue.categories']\n",
    "        \n",
    "    if len(categories_list) == 0:\n",
    "        return None\n",
    "    else:\n",
    "        return categories_list[0]['name']"
   ]
  },
  {
   "cell_type": "markdown",
   "metadata": {},
   "source": [
    "Now we are ready to clean the json and structure it into a pandas dataframe."
   ]
  },
  {
   "cell_type": "code",
   "execution_count": 10,
   "metadata": {},
   "outputs": [
    {
     "name": "stderr",
     "output_type": "stream",
     "text": [
      "<ipython-input-10-2e7946891582>:3: FutureWarning: pandas.io.json.json_normalize is deprecated, use pandas.json_normalize instead\n",
      "  nearby_venues = json_normalize(venues) # flatten JSON\n"
     ]
    },
    {
     "data": {
      "text/html": [
       "<div>\n",
       "<style scoped>\n",
       "    .dataframe tbody tr th:only-of-type {\n",
       "        vertical-align: middle;\n",
       "    }\n",
       "\n",
       "    .dataframe tbody tr th {\n",
       "        vertical-align: top;\n",
       "    }\n",
       "\n",
       "    .dataframe thead th {\n",
       "        text-align: right;\n",
       "    }\n",
       "</style>\n",
       "<table border=\"1\" class=\"dataframe\">\n",
       "  <thead>\n",
       "    <tr style=\"text-align: right;\">\n",
       "      <th></th>\n",
       "      <th>name</th>\n",
       "      <th>categories</th>\n",
       "      <th>lat</th>\n",
       "      <th>lng</th>\n",
       "    </tr>\n",
       "  </thead>\n",
       "  <tbody>\n",
       "    <tr>\n",
       "      <th>0</th>\n",
       "      <td>Sleepy Bear Coffee</td>\n",
       "      <td>Coffee Shop</td>\n",
       "      <td>46.515338</td>\n",
       "      <td>6.631369</td>\n",
       "    </tr>\n",
       "    <tr>\n",
       "      <th>1</th>\n",
       "      <td>Les Trois Rois</td>\n",
       "      <td>French Restaurant</td>\n",
       "      <td>46.515515</td>\n",
       "      <td>6.631223</td>\n",
       "    </tr>\n",
       "    <tr>\n",
       "      <th>2</th>\n",
       "      <td>Pasta e Sfizi</td>\n",
       "      <td>Italian Restaurant</td>\n",
       "      <td>46.516374</td>\n",
       "      <td>6.633477</td>\n",
       "    </tr>\n",
       "    <tr>\n",
       "      <th>3</th>\n",
       "      <td>Café du Simplon</td>\n",
       "      <td>Mediterranean Restaurant</td>\n",
       "      <td>46.515961</td>\n",
       "      <td>6.629948</td>\n",
       "    </tr>\n",
       "    <tr>\n",
       "      <th>4</th>\n",
       "      <td>Les Gosses du Québec</td>\n",
       "      <td>Bar</td>\n",
       "      <td>46.517072</td>\n",
       "      <td>6.633122</td>\n",
       "    </tr>\n",
       "  </tbody>\n",
       "</table>\n",
       "</div>"
      ],
      "text/plain": [
       "                   name                categories        lat       lng\n",
       "0    Sleepy Bear Coffee               Coffee Shop  46.515338  6.631369\n",
       "1        Les Trois Rois         French Restaurant  46.515515  6.631223\n",
       "2         Pasta e Sfizi        Italian Restaurant  46.516374  6.633477\n",
       "3       Café du Simplon  Mediterranean Restaurant  46.515961  6.629948\n",
       "4  Les Gosses du Québec                       Bar  46.517072  6.633122"
      ]
     },
     "execution_count": 10,
     "metadata": {},
     "output_type": "execute_result"
    }
   ],
   "source": [
    "venues = results['response']['groups'][0]['items']\n",
    "    \n",
    "nearby_venues = json_normalize(venues) # flatten JSON\n",
    "\n",
    "# filter columns\n",
    "filtered_columns = ['venue.name', 'venue.categories', 'venue.location.lat', 'venue.location.lng']\n",
    "nearby_venues = nearby_venues.loc[:, filtered_columns]\n",
    "\n",
    "# filter the category for each row\n",
    "nearby_venues['venue.categories'] = nearby_venues.apply(get_category_type, axis=1)\n",
    "\n",
    "# clean columns\n",
    "nearby_venues.columns = [col.split(\".\")[-1] for col in nearby_venues.columns]\n",
    "\n",
    "nearby_venues.head()"
   ]
  },
  {
   "cell_type": "markdown",
   "metadata": {},
   "source": [
    "Let's print how many venues were found by Foursquare."
   ]
  },
  {
   "cell_type": "code",
   "execution_count": 11,
   "metadata": {},
   "outputs": [
    {
     "name": "stdout",
     "output_type": "stream",
     "text": [
      "100 venues were returned by Foursquare.\n"
     ]
    }
   ],
   "source": [
    "print('{} venues were returned by Foursquare.'.format(nearby_venues.shape[0]))"
   ]
  },
  {
   "cell_type": "markdown",
   "metadata": {},
   "source": [
    "Now let's retrieve the coordinates of Lausanne from the json file, in order to plot the heatmap of the locations."
   ]
  },
  {
   "cell_type": "code",
   "execution_count": 12,
   "metadata": {},
   "outputs": [],
   "source": [
    "data = results['response']"
   ]
  },
  {
   "cell_type": "code",
   "execution_count": 13,
   "metadata": {},
   "outputs": [
    {
     "data": {
      "text/plain": [
       "{'lat': 46.516, 'lng': 6.63282}"
      ]
     },
     "execution_count": 13,
     "metadata": {},
     "output_type": "execute_result"
    }
   ],
   "source": [
    "lausanne_center = data[\"geocode\"][\"center\"]\n",
    "lausanne_center"
   ]
  },
  {
   "cell_type": "markdown",
   "metadata": {},
   "source": [
    "Let's plot the map"
   ]
  },
  {
   "cell_type": "code",
   "execution_count": 14,
   "metadata": {},
   "outputs": [
    {
     "data": {
      "text/html": [
       "<div style=\"width:100%;\"><div style=\"position:relative;width:100%;height:0;padding-bottom:60%;\"><span style=\"color:#565656\">Make this Notebook Trusted to load map: File -> Trust Notebook</span><iframe src=\"about:blank\" style=\"position:absolute;width:100%;height:100%;left:0;top:0;border:none !important;\" data-html=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 onload=\"this.contentDocument.open();this.contentDocument.write(atob(this.getAttribute('data-html')));this.contentDocument.close();\" allowfullscreen webkitallowfullscreen mozallowfullscreen></iframe></div></div>"
      ],
      "text/plain": [
       "<folium.folium.Map at 0x1bb580f1190>"
      ]
     },
     "execution_count": 14,
     "metadata": {},
     "output_type": "execute_result"
    }
   ],
   "source": [
    "map_lausanne = folium.Map(location=[lausanne_center[\"lat\"], lausanne_center[\"lng\"]], zoom_start=15)\n",
    "\n",
    "def add_markers(df):\n",
    "    for (j, row) in df.iterrows():\n",
    "        label = folium.Popup(row[\"name\"], parse_html=True)\n",
    "        folium.CircleMarker(\n",
    "            [row[\"lat\"], row[\"lng\"]],\n",
    "            radius=5,\n",
    "            popup=label,\n",
    "            color='blue',\n",
    "            fill=True,\n",
    "            fill_color='#3186cc',\n",
    "            fill_opacity=0.7,\n",
    "            parse_html=False).add_to(map_lausanne)\n",
    "\n",
    "        \n",
    "\n",
    "map_lausanne"
   ]
  },
  {
   "cell_type": "markdown",
   "metadata": {},
   "source": [
    "And now let's add the markers for the locations to the map:"
   ]
  },
  {
   "cell_type": "code",
   "execution_count": 17,
   "metadata": {},
   "outputs": [
    {
     "data": {
      "text/html": [
       "<div style=\"width:100%;\"><div style=\"position:relative;width:100%;height:0;padding-bottom:60%;\"><span style=\"color:#565656\">Make this Notebook Trusted to load map: File -> Trust Notebook</span><iframe src=\"about:blank\" style=\"position:absolute;width:100%;height:100%;left:0;top:0;border:none !important;\" data-html=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 onload=\"this.contentDocument.open();this.contentDocument.write(atob(this.getAttribute('data-html')));this.contentDocument.close();\" allowfullscreen webkitallowfullscreen mozallowfullscreen></iframe></div></div>"
      ],
      "text/plain": [
       "<folium.folium.Map at 0x1bb580f1190>"
      ]
     },
     "execution_count": 17,
     "metadata": {},
     "output_type": "execute_result"
    }
   ],
   "source": [
    "#add_markers(nearby_venues)\n",
    "lm_data = nearby_venues[[\"lat\", \"lng\"]].values             #as_matrix().tolist()\n",
    "\n",
    "# List comprehension to make out list of lists\n",
    "heat_data = [[row['lat'],row['lng']] for index, row in nearby_venues.iterrows()]\n",
    "\n",
    "add_markers(nearby_venues) \n",
    "\n",
    "HeatMap(heat_data).add_to(map_lausanne)\n",
    "\n",
    "map_lausanne"
   ]
  },
  {
   "cell_type": "markdown",
   "metadata": {},
   "source": [
    "Now that we have added the markers and shown the heatmap, we can analyze the density in different areas of the city and start clustering the locations.\n",
    "\n",
    " "
   ]
  },
  {
   "cell_type": "markdown",
   "metadata": {},
   "source": [
    "Let's see how many venues were retrieved:"
   ]
  },
  {
   "cell_type": "code",
   "execution_count": 20,
   "metadata": {},
   "outputs": [
    {
     "name": "stdout",
     "output_type": "stream",
     "text": [
      "There are 100 venues.\n"
     ]
    }
   ],
   "source": [
    "print('There are {} venues.'.format(len(nearby_venues['categories'])))"
   ]
  },
  {
   "cell_type": "markdown",
   "metadata": {},
   "source": [
    "One hot encoding"
   ]
  },
  {
   "cell_type": "code",
   "execution_count": 25,
   "metadata": {},
   "outputs": [
    {
     "data": {
      "text/html": [
       "<div>\n",
       "<style scoped>\n",
       "    .dataframe tbody tr th:only-of-type {\n",
       "        vertical-align: middle;\n",
       "    }\n",
       "\n",
       "    .dataframe tbody tr th {\n",
       "        vertical-align: top;\n",
       "    }\n",
       "\n",
       "    .dataframe thead th {\n",
       "        text-align: right;\n",
       "    }\n",
       "</style>\n",
       "<table border=\"1\" class=\"dataframe\">\n",
       "  <thead>\n",
       "    <tr style=\"text-align: right;\">\n",
       "      <th></th>\n",
       "      <th>name</th>\n",
       "      <th>Art Museum</th>\n",
       "      <th>Bar</th>\n",
       "      <th>Bistro</th>\n",
       "      <th>Bookstore</th>\n",
       "      <th>Breakfast Spot</th>\n",
       "      <th>Burger Joint</th>\n",
       "      <th>Café</th>\n",
       "      <th>Candy Store</th>\n",
       "      <th>Chinese Restaurant</th>\n",
       "      <th>Church</th>\n",
       "      <th>Coffee Shop</th>\n",
       "      <th>Creperie</th>\n",
       "      <th>Cupcake Shop</th>\n",
       "      <th>Department Store</th>\n",
       "      <th>Dessert Shop</th>\n",
       "      <th>Diner</th>\n",
       "      <th>Falafel Restaurant</th>\n",
       "      <th>Fast Food Restaurant</th>\n",
       "      <th>French Restaurant</th>\n",
       "      <th>Gastropub</th>\n",
       "      <th>General Entertainment</th>\n",
       "      <th>Gym</th>\n",
       "      <th>Hotel</th>\n",
       "      <th>Ice Cream Shop</th>\n",
       "      <th>Indian Restaurant</th>\n",
       "      <th>Italian Restaurant</th>\n",
       "      <th>Japanese Restaurant</th>\n",
       "      <th>Mediterranean Restaurant</th>\n",
       "      <th>Modern European Restaurant</th>\n",
       "      <th>Multiplex</th>\n",
       "      <th>Museum</th>\n",
       "      <th>Nightclub</th>\n",
       "      <th>Park</th>\n",
       "      <th>Pedestrian Plaza</th>\n",
       "      <th>Pharmacy</th>\n",
       "      <th>Pizza Place</th>\n",
       "      <th>Plaza</th>\n",
       "      <th>Pool</th>\n",
       "      <th>Restaurant</th>\n",
       "      <th>Rock Club</th>\n",
       "      <th>Sandwich Place</th>\n",
       "      <th>Snack Place</th>\n",
       "      <th>Supermarket</th>\n",
       "      <th>Swiss Restaurant</th>\n",
       "      <th>Tea Room</th>\n",
       "      <th>Vegetarian / Vegan Restaurant</th>\n",
       "      <th>Waterfront</th>\n",
       "      <th>Wine Bar</th>\n",
       "      <th>Yoga Studio</th>\n",
       "    </tr>\n",
       "  </thead>\n",
       "  <tbody>\n",
       "    <tr>\n",
       "      <th>0</th>\n",
       "      <td>Sleepy Bear Coffee</td>\n",
       "      <td>0</td>\n",
       "      <td>0</td>\n",
       "      <td>0</td>\n",
       "      <td>0</td>\n",
       "      <td>0</td>\n",
       "      <td>0</td>\n",
       "      <td>0</td>\n",
       "      <td>0</td>\n",
       "      <td>0</td>\n",
       "      <td>0</td>\n",
       "      <td>1</td>\n",
       "      <td>0</td>\n",
       "      <td>0</td>\n",
       "      <td>0</td>\n",
       "      <td>0</td>\n",
       "      <td>0</td>\n",
       "      <td>0</td>\n",
       "      <td>0</td>\n",
       "      <td>0</td>\n",
       "      <td>0</td>\n",
       "      <td>0</td>\n",
       "      <td>0</td>\n",
       "      <td>0</td>\n",
       "      <td>0</td>\n",
       "      <td>0</td>\n",
       "      <td>0</td>\n",
       "      <td>0</td>\n",
       "      <td>0</td>\n",
       "      <td>0</td>\n",
       "      <td>0</td>\n",
       "      <td>0</td>\n",
       "      <td>0</td>\n",
       "      <td>0</td>\n",
       "      <td>0</td>\n",
       "      <td>0</td>\n",
       "      <td>0</td>\n",
       "      <td>0</td>\n",
       "      <td>0</td>\n",
       "      <td>0</td>\n",
       "      <td>0</td>\n",
       "      <td>0</td>\n",
       "      <td>0</td>\n",
       "      <td>0</td>\n",
       "      <td>0</td>\n",
       "      <td>0</td>\n",
       "      <td>0</td>\n",
       "      <td>0</td>\n",
       "      <td>0</td>\n",
       "      <td>0</td>\n",
       "    </tr>\n",
       "    <tr>\n",
       "      <th>1</th>\n",
       "      <td>Les Trois Rois</td>\n",
       "      <td>0</td>\n",
       "      <td>0</td>\n",
       "      <td>0</td>\n",
       "      <td>0</td>\n",
       "      <td>0</td>\n",
       "      <td>0</td>\n",
       "      <td>0</td>\n",
       "      <td>0</td>\n",
       "      <td>0</td>\n",
       "      <td>0</td>\n",
       "      <td>0</td>\n",
       "      <td>0</td>\n",
       "      <td>0</td>\n",
       "      <td>0</td>\n",
       "      <td>0</td>\n",
       "      <td>0</td>\n",
       "      <td>0</td>\n",
       "      <td>0</td>\n",
       "      <td>1</td>\n",
       "      <td>0</td>\n",
       "      <td>0</td>\n",
       "      <td>0</td>\n",
       "      <td>0</td>\n",
       "      <td>0</td>\n",
       "      <td>0</td>\n",
       "      <td>0</td>\n",
       "      <td>0</td>\n",
       "      <td>0</td>\n",
       "      <td>0</td>\n",
       "      <td>0</td>\n",
       "      <td>0</td>\n",
       "      <td>0</td>\n",
       "      <td>0</td>\n",
       "      <td>0</td>\n",
       "      <td>0</td>\n",
       "      <td>0</td>\n",
       "      <td>0</td>\n",
       "      <td>0</td>\n",
       "      <td>0</td>\n",
       "      <td>0</td>\n",
       "      <td>0</td>\n",
       "      <td>0</td>\n",
       "      <td>0</td>\n",
       "      <td>0</td>\n",
       "      <td>0</td>\n",
       "      <td>0</td>\n",
       "      <td>0</td>\n",
       "      <td>0</td>\n",
       "      <td>0</td>\n",
       "    </tr>\n",
       "    <tr>\n",
       "      <th>2</th>\n",
       "      <td>Pasta e Sfizi</td>\n",
       "      <td>0</td>\n",
       "      <td>0</td>\n",
       "      <td>0</td>\n",
       "      <td>0</td>\n",
       "      <td>0</td>\n",
       "      <td>0</td>\n",
       "      <td>0</td>\n",
       "      <td>0</td>\n",
       "      <td>0</td>\n",
       "      <td>0</td>\n",
       "      <td>0</td>\n",
       "      <td>0</td>\n",
       "      <td>0</td>\n",
       "      <td>0</td>\n",
       "      <td>0</td>\n",
       "      <td>0</td>\n",
       "      <td>0</td>\n",
       "      <td>0</td>\n",
       "      <td>0</td>\n",
       "      <td>0</td>\n",
       "      <td>0</td>\n",
       "      <td>0</td>\n",
       "      <td>0</td>\n",
       "      <td>0</td>\n",
       "      <td>0</td>\n",
       "      <td>1</td>\n",
       "      <td>0</td>\n",
       "      <td>0</td>\n",
       "      <td>0</td>\n",
       "      <td>0</td>\n",
       "      <td>0</td>\n",
       "      <td>0</td>\n",
       "      <td>0</td>\n",
       "      <td>0</td>\n",
       "      <td>0</td>\n",
       "      <td>0</td>\n",
       "      <td>0</td>\n",
       "      <td>0</td>\n",
       "      <td>0</td>\n",
       "      <td>0</td>\n",
       "      <td>0</td>\n",
       "      <td>0</td>\n",
       "      <td>0</td>\n",
       "      <td>0</td>\n",
       "      <td>0</td>\n",
       "      <td>0</td>\n",
       "      <td>0</td>\n",
       "      <td>0</td>\n",
       "      <td>0</td>\n",
       "    </tr>\n",
       "    <tr>\n",
       "      <th>3</th>\n",
       "      <td>Café du Simplon</td>\n",
       "      <td>0</td>\n",
       "      <td>0</td>\n",
       "      <td>0</td>\n",
       "      <td>0</td>\n",
       "      <td>0</td>\n",
       "      <td>0</td>\n",
       "      <td>0</td>\n",
       "      <td>0</td>\n",
       "      <td>0</td>\n",
       "      <td>0</td>\n",
       "      <td>0</td>\n",
       "      <td>0</td>\n",
       "      <td>0</td>\n",
       "      <td>0</td>\n",
       "      <td>0</td>\n",
       "      <td>0</td>\n",
       "      <td>0</td>\n",
       "      <td>0</td>\n",
       "      <td>0</td>\n",
       "      <td>0</td>\n",
       "      <td>0</td>\n",
       "      <td>0</td>\n",
       "      <td>0</td>\n",
       "      <td>0</td>\n",
       "      <td>0</td>\n",
       "      <td>0</td>\n",
       "      <td>0</td>\n",
       "      <td>1</td>\n",
       "      <td>0</td>\n",
       "      <td>0</td>\n",
       "      <td>0</td>\n",
       "      <td>0</td>\n",
       "      <td>0</td>\n",
       "      <td>0</td>\n",
       "      <td>0</td>\n",
       "      <td>0</td>\n",
       "      <td>0</td>\n",
       "      <td>0</td>\n",
       "      <td>0</td>\n",
       "      <td>0</td>\n",
       "      <td>0</td>\n",
       "      <td>0</td>\n",
       "      <td>0</td>\n",
       "      <td>0</td>\n",
       "      <td>0</td>\n",
       "      <td>0</td>\n",
       "      <td>0</td>\n",
       "      <td>0</td>\n",
       "      <td>0</td>\n",
       "    </tr>\n",
       "    <tr>\n",
       "      <th>4</th>\n",
       "      <td>Les Gosses du Québec</td>\n",
       "      <td>0</td>\n",
       "      <td>1</td>\n",
       "      <td>0</td>\n",
       "      <td>0</td>\n",
       "      <td>0</td>\n",
       "      <td>0</td>\n",
       "      <td>0</td>\n",
       "      <td>0</td>\n",
       "      <td>0</td>\n",
       "      <td>0</td>\n",
       "      <td>0</td>\n",
       "      <td>0</td>\n",
       "      <td>0</td>\n",
       "      <td>0</td>\n",
       "      <td>0</td>\n",
       "      <td>0</td>\n",
       "      <td>0</td>\n",
       "      <td>0</td>\n",
       "      <td>0</td>\n",
       "      <td>0</td>\n",
       "      <td>0</td>\n",
       "      <td>0</td>\n",
       "      <td>0</td>\n",
       "      <td>0</td>\n",
       "      <td>0</td>\n",
       "      <td>0</td>\n",
       "      <td>0</td>\n",
       "      <td>0</td>\n",
       "      <td>0</td>\n",
       "      <td>0</td>\n",
       "      <td>0</td>\n",
       "      <td>0</td>\n",
       "      <td>0</td>\n",
       "      <td>0</td>\n",
       "      <td>0</td>\n",
       "      <td>0</td>\n",
       "      <td>0</td>\n",
       "      <td>0</td>\n",
       "      <td>0</td>\n",
       "      <td>0</td>\n",
       "      <td>0</td>\n",
       "      <td>0</td>\n",
       "      <td>0</td>\n",
       "      <td>0</td>\n",
       "      <td>0</td>\n",
       "      <td>0</td>\n",
       "      <td>0</td>\n",
       "      <td>0</td>\n",
       "      <td>0</td>\n",
       "    </tr>\n",
       "  </tbody>\n",
       "</table>\n",
       "</div>"
      ],
      "text/plain": [
       "                   name  Art Museum  Bar  Bistro  Bookstore  Breakfast Spot  \\\n",
       "0    Sleepy Bear Coffee           0    0       0          0               0   \n",
       "1        Les Trois Rois           0    0       0          0               0   \n",
       "2         Pasta e Sfizi           0    0       0          0               0   \n",
       "3       Café du Simplon           0    0       0          0               0   \n",
       "4  Les Gosses du Québec           0    1       0          0               0   \n",
       "\n",
       "   Burger Joint  Café  Candy Store  Chinese Restaurant  Church  Coffee Shop  \\\n",
       "0             0     0            0                   0       0            1   \n",
       "1             0     0            0                   0       0            0   \n",
       "2             0     0            0                   0       0            0   \n",
       "3             0     0            0                   0       0            0   \n",
       "4             0     0            0                   0       0            0   \n",
       "\n",
       "   Creperie  Cupcake Shop  Department Store  Dessert Shop  Diner  \\\n",
       "0         0             0                 0             0      0   \n",
       "1         0             0                 0             0      0   \n",
       "2         0             0                 0             0      0   \n",
       "3         0             0                 0             0      0   \n",
       "4         0             0                 0             0      0   \n",
       "\n",
       "   Falafel Restaurant  Fast Food Restaurant  French Restaurant  Gastropub  \\\n",
       "0                   0                     0                  0          0   \n",
       "1                   0                     0                  1          0   \n",
       "2                   0                     0                  0          0   \n",
       "3                   0                     0                  0          0   \n",
       "4                   0                     0                  0          0   \n",
       "\n",
       "   General Entertainment  Gym  Hotel  Ice Cream Shop  Indian Restaurant  \\\n",
       "0                      0    0      0               0                  0   \n",
       "1                      0    0      0               0                  0   \n",
       "2                      0    0      0               0                  0   \n",
       "3                      0    0      0               0                  0   \n",
       "4                      0    0      0               0                  0   \n",
       "\n",
       "   Italian Restaurant  Japanese Restaurant  Mediterranean Restaurant  \\\n",
       "0                   0                    0                         0   \n",
       "1                   0                    0                         0   \n",
       "2                   1                    0                         0   \n",
       "3                   0                    0                         1   \n",
       "4                   0                    0                         0   \n",
       "\n",
       "   Modern European Restaurant  Multiplex  Museum  Nightclub  Park  \\\n",
       "0                           0          0       0          0     0   \n",
       "1                           0          0       0          0     0   \n",
       "2                           0          0       0          0     0   \n",
       "3                           0          0       0          0     0   \n",
       "4                           0          0       0          0     0   \n",
       "\n",
       "   Pedestrian Plaza  Pharmacy  Pizza Place  Plaza  Pool  Restaurant  \\\n",
       "0                 0         0            0      0     0           0   \n",
       "1                 0         0            0      0     0           0   \n",
       "2                 0         0            0      0     0           0   \n",
       "3                 0         0            0      0     0           0   \n",
       "4                 0         0            0      0     0           0   \n",
       "\n",
       "   Rock Club  Sandwich Place  Snack Place  Supermarket  Swiss Restaurant  \\\n",
       "0          0               0            0            0                 0   \n",
       "1          0               0            0            0                 0   \n",
       "2          0               0            0            0                 0   \n",
       "3          0               0            0            0                 0   \n",
       "4          0               0            0            0                 0   \n",
       "\n",
       "   Tea Room  Vegetarian / Vegan Restaurant  Waterfront  Wine Bar  Yoga Studio  \n",
       "0         0                              0           0         0            0  \n",
       "1         0                              0           0         0            0  \n",
       "2         0                              0           0         0            0  \n",
       "3         0                              0           0         0            0  \n",
       "4         0                              0           0         0            0  "
      ]
     },
     "execution_count": 25,
     "metadata": {},
     "output_type": "execute_result"
    }
   ],
   "source": [
    "# one hot encoding\n",
    "lausanne_onehot = pd.get_dummies(nearby_venues[['categories']], prefix=\"\", prefix_sep=\"\")\n",
    "\n",
    "# add venue column back to dataframe\n",
    "lausanne_onehot['name'] = nearby_venues['name'] \n",
    "\n",
    "# move venue name column to the first column\n",
    "fixed_columns = [lausanne_onehot.columns[-1]] + list(lausanne_onehot.columns[:-1])\n",
    "lausanne_onehot = lausanne_onehot[fixed_columns]\n",
    "\n",
    "lausanne_onehot.head()"
   ]
  },
  {
   "cell_type": "markdown",
   "metadata": {},
   "source": [
    "Let's check the shape of our new dataframe. The rows are the venues obtaine from Foursquare, while the columns are all the unique categories for the venues."
   ]
  },
  {
   "cell_type": "code",
   "execution_count": 56,
   "metadata": {},
   "outputs": [
    {
     "data": {
      "text/plain": [
       "(100, 50)"
      ]
     },
     "execution_count": 56,
     "metadata": {},
     "output_type": "execute_result"
    }
   ],
   "source": [
    "lausanne_onehot.shape"
   ]
  },
  {
   "cell_type": "markdown",
   "metadata": {},
   "source": [
    "Before running K-means, we have to decide the number of clusters. A way to do that is with the elbow method, where you test the algorhitm with several different K values and you then choose the most appropriate."
   ]
  },
  {
   "cell_type": "code",
   "execution_count": 57,
   "metadata": {},
   "outputs": [],
   "source": [
    "distortions = []\n",
    "K = range(1,10)\n",
    "for k in K:\n",
    "    kmeanModel = KMeans(n_clusters=k)\n",
    "    kmeanModel.fit(lausanne_onehot_clustering)\n",
    "    distortions.append(kmeanModel.inertia_)"
   ]
  },
  {
   "cell_type": "markdown",
   "metadata": {},
   "source": [
    "Let's see the plot for the elbow method."
   ]
  },
  {
   "cell_type": "code",
   "execution_count": 60,
   "metadata": {},
   "outputs": [
    {
     "data": {
      "image/png": "[encoded data removed]",
      "text/plain": [
       "<Figure size 1152x576 with 1 Axes>"
      ]
     },
     "metadata": {
      "needs_background": "light"
     },
     "output_type": "display_data"
    }
   ],
   "source": [
    "plt.figure(figsize=(16,8))\n",
    "plt.plot(K, distortions, 'bx-')\n",
    "plt.xlabel('k')\n",
    "plt.ylabel('Distortion')\n",
    "plt.title('The Elbow Method showing the optimal k')\n",
    "plt.show()"
   ]
  },
  {
   "cell_type": "markdown",
   "metadata": {},
   "source": [
    "We should choose the k which makes the slope change visibly, but in this case is not that clear. Anyway we will choose k = 7."
   ]
  },
  {
   "cell_type": "code",
   "execution_count": 94,
   "metadata": {},
   "outputs": [
    {
     "data": {
      "text/plain": [
       "array([0, 1, 5, 0, 2, 2, 0, 0, 0, 1])"
      ]
     },
     "execution_count": 94,
     "metadata": {},
     "output_type": "execute_result"
    }
   ],
   "source": [
    "# set number of clusters\n",
    "kclusters = 7\n",
    "\n",
    "lausanne_onehot_clustering = lausanne_onehot.drop('name', 1)\n",
    "\n",
    "# run k-means clustering\n",
    "kmeans = KMeans(n_clusters = kclusters, random_state = 0).fit(lausanne_onehot_clustering)\n",
    "\n",
    "# check cluster labels generated for each row in the dataframe\n",
    "kmeans.labels_[0:10] "
   ]
  },
  {
   "cell_type": "markdown",
   "metadata": {},
   "source": [
    "new dataframe with cluster number"
   ]
  },
  {
   "cell_type": "code",
   "execution_count": 95,
   "metadata": {},
   "outputs": [
    {
     "data": {
      "text/html": [
       "<div>\n",
       "<style scoped>\n",
       "    .dataframe tbody tr th:only-of-type {\n",
       "        vertical-align: middle;\n",
       "    }\n",
       "\n",
       "    .dataframe tbody tr th {\n",
       "        vertical-align: top;\n",
       "    }\n",
       "\n",
       "    .dataframe thead th {\n",
       "        text-align: right;\n",
       "    }\n",
       "</style>\n",
       "<table border=\"1\" class=\"dataframe\">\n",
       "  <thead>\n",
       "    <tr style=\"text-align: right;\">\n",
       "      <th></th>\n",
       "      <th>Cluster Labels</th>\n",
       "      <th>name</th>\n",
       "      <th>categories</th>\n",
       "      <th>lat</th>\n",
       "      <th>lng</th>\n",
       "    </tr>\n",
       "  </thead>\n",
       "  <tbody>\n",
       "    <tr>\n",
       "      <th>0</th>\n",
       "      <td>0</td>\n",
       "      <td>Sleepy Bear Coffee</td>\n",
       "      <td>Coffee Shop</td>\n",
       "      <td>46.515338</td>\n",
       "      <td>6.631369</td>\n",
       "    </tr>\n",
       "    <tr>\n",
       "      <th>1</th>\n",
       "      <td>1</td>\n",
       "      <td>Les Trois Rois</td>\n",
       "      <td>French Restaurant</td>\n",
       "      <td>46.515515</td>\n",
       "      <td>6.631223</td>\n",
       "    </tr>\n",
       "    <tr>\n",
       "      <th>2</th>\n",
       "      <td>5</td>\n",
       "      <td>Pasta e Sfizi</td>\n",
       "      <td>Italian Restaurant</td>\n",
       "      <td>46.516374</td>\n",
       "      <td>6.633477</td>\n",
       "    </tr>\n",
       "    <tr>\n",
       "      <th>3</th>\n",
       "      <td>0</td>\n",
       "      <td>Café du Simplon</td>\n",
       "      <td>Mediterranean Restaurant</td>\n",
       "      <td>46.515961</td>\n",
       "      <td>6.629948</td>\n",
       "    </tr>\n",
       "    <tr>\n",
       "      <th>4</th>\n",
       "      <td>2</td>\n",
       "      <td>Les Gosses du Québec</td>\n",
       "      <td>Bar</td>\n",
       "      <td>46.517072</td>\n",
       "      <td>6.633122</td>\n",
       "    </tr>\n",
       "  </tbody>\n",
       "</table>\n",
       "</div>"
      ],
      "text/plain": [
       "   Cluster Labels                  name                categories        lat  \\\n",
       "0               0    Sleepy Bear Coffee               Coffee Shop  46.515338   \n",
       "1               1        Les Trois Rois         French Restaurant  46.515515   \n",
       "2               5         Pasta e Sfizi        Italian Restaurant  46.516374   \n",
       "3               0       Café du Simplon  Mediterranean Restaurant  46.515961   \n",
       "4               2  Les Gosses du Québec                       Bar  46.517072   \n",
       "\n",
       "        lng  \n",
       "0  6.631369  \n",
       "1  6.631223  \n",
       "2  6.633477  \n",
       "3  6.629948  \n",
       "4  6.633122  "
      ]
     },
     "execution_count": 95,
     "metadata": {},
     "output_type": "execute_result"
    }
   ],
   "source": [
    "nearby_venues = nearby_venues.drop(['Cluster Labels'], axis=1)\n",
    "\n",
    "# add clustering labels\n",
    "nearby_venues.insert(0, 'Cluster Labels', kmeans.labels_)\n",
    "nearby_venues.head()"
   ]
  },
  {
   "cell_type": "markdown",
   "metadata": {},
   "source": [
    "map"
   ]
  },
  {
   "cell_type": "code",
   "execution_count": 96,
   "metadata": {},
   "outputs": [
    {
     "data": {
      "text/html": [
       "<div style=\"width:100%;\"><div style=\"position:relative;width:100%;height:0;padding-bottom:60%;\"><span style=\"color:#565656\">Make this Notebook Trusted to load map: File -> Trust Notebook</span><iframe src=\"about:blank\" style=\"position:absolute;width:100%;height:100%;left:0;top:0;border:none !important;\" data-html=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 onload=\"this.contentDocument.open();this.contentDocument.write(atob(this.getAttribute('data-html')));this.contentDocument.close();\" allowfullscreen webkitallowfullscreen mozallowfullscreen></iframe></div></div>"
      ],
      "text/plain": [
       "<folium.folium.Map at 0x1bb5f1e1670>"
      ]
     },
     "execution_count": 96,
     "metadata": {},
     "output_type": "execute_result"
    }
   ],
   "source": [
    "# create map\n",
    "map_clusters = folium.Map(location=[lausanne_center[\"lat\"], lausanne_center[\"lng\"]], zoom_start=15)\n",
    "\n",
    "# set color scheme for the clusters\n",
    "x = np.arange(kclusters)\n",
    "ys = [i + x + (i*x)**2 for i in range(kclusters)]\n",
    "colors_array = cm.rainbow(np.linspace(0, 1, len(ys)))\n",
    "rainbow = [colors.rgb2hex(i) for i in colors_array]\n",
    "\n",
    "\n",
    "# add markers to the map\n",
    "markers_colors = []\n",
    "for lat, lon, poi, cluster in zip(nearby_venues['lat'], nearby_venues['lng'], nearby_venues['name'], nearby_venues['Cluster Labels']):\n",
    "    label = folium.Popup(str(poi) + ' Cluster ' + str(cluster), parse_html = True)\n",
    "    folium.CircleMarker(\n",
    "        [lat, lon],\n",
    "        radius = 5,\n",
    "        popup = label,\n",
    "        color = rainbow[int(cluster-1)],\n",
    "        fill = True,\n",
    "        fill_color = rainbow[int(cluster-1)],\n",
    "        fill_opacity = 0.7).add_to(map_clusters)\n",
    "       \n",
    "map_clusters"
   ]
  },
  {
   "cell_type": "markdown",
   "metadata": {},
   "source": [
    "# Results"
   ]
  },
  {
   "cell_type": "markdown",
   "metadata": {},
   "source": [
    "let's plot the single clusters"
   ]
  },
  {
   "cell_type": "code",
   "execution_count": 97,
   "metadata": {},
   "outputs": [
    {
     "data": {
      "text/html": [
       "<div>\n",
       "<style scoped>\n",
       "    .dataframe tbody tr th:only-of-type {\n",
       "        vertical-align: middle;\n",
       "    }\n",
       "\n",
       "    .dataframe tbody tr th {\n",
       "        vertical-align: top;\n",
       "    }\n",
       "\n",
       "    .dataframe thead th {\n",
       "        text-align: right;\n",
       "    }\n",
       "</style>\n",
       "<table border=\"1\" class=\"dataframe\">\n",
       "  <thead>\n",
       "    <tr style=\"text-align: right;\">\n",
       "      <th></th>\n",
       "      <th>Cluster Labels</th>\n",
       "      <th>name</th>\n",
       "      <th>categories</th>\n",
       "      <th>lat</th>\n",
       "      <th>lng</th>\n",
       "    </tr>\n",
       "  </thead>\n",
       "  <tbody>\n",
       "    <tr>\n",
       "      <th>0</th>\n",
       "      <td>0</td>\n",
       "      <td>Sleepy Bear Coffee</td>\n",
       "      <td>Coffee Shop</td>\n",
       "      <td>46.515338</td>\n",
       "      <td>6.631369</td>\n",
       "    </tr>\n",
       "    <tr>\n",
       "      <th>3</th>\n",
       "      <td>0</td>\n",
       "      <td>Café du Simplon</td>\n",
       "      <td>Mediterranean Restaurant</td>\n",
       "      <td>46.515961</td>\n",
       "      <td>6.629948</td>\n",
       "    </tr>\n",
       "    <tr>\n",
       "      <th>6</th>\n",
       "      <td>0</td>\n",
       "      <td>Al Sacco</td>\n",
       "      <td>Sandwich Place</td>\n",
       "      <td>46.515690</td>\n",
       "      <td>6.630438</td>\n",
       "    </tr>\n",
       "    <tr>\n",
       "      <th>7</th>\n",
       "      <td>0</td>\n",
       "      <td>Ta Cave</td>\n",
       "      <td>Wine Bar</td>\n",
       "      <td>46.516014</td>\n",
       "      <td>6.628386</td>\n",
       "    </tr>\n",
       "    <tr>\n",
       "      <th>8</th>\n",
       "      <td>0</td>\n",
       "      <td>Café de Grancy</td>\n",
       "      <td>Gastropub</td>\n",
       "      <td>46.515265</td>\n",
       "      <td>6.628637</td>\n",
       "    </tr>\n",
       "  </tbody>\n",
       "</table>\n",
       "</div>"
      ],
      "text/plain": [
       "   Cluster Labels                name                categories        lat  \\\n",
       "0               0  Sleepy Bear Coffee               Coffee Shop  46.515338   \n",
       "3               0     Café du Simplon  Mediterranean Restaurant  46.515961   \n",
       "6               0            Al Sacco            Sandwich Place  46.515690   \n",
       "7               0             Ta Cave                  Wine Bar  46.516014   \n",
       "8               0      Café de Grancy                 Gastropub  46.515265   \n",
       "\n",
       "        lng  \n",
       "0  6.631369  \n",
       "3  6.629948  \n",
       "6  6.630438  \n",
       "7  6.628386  \n",
       "8  6.628637  "
      ]
     },
     "execution_count": 97,
     "metadata": {},
     "output_type": "execute_result"
    }
   ],
   "source": [
    "Cluster_zero = nearby_venues.loc[nearby_venues['Cluster Labels'] == 0,]  # budapest_merged.columns[[0] + list(range(5, budapest_merged.shape[1]))]]\n",
    "\n",
    "Cluster_zero.head()"
   ]
  },
  {
   "cell_type": "code",
   "execution_count": 98,
   "metadata": {},
   "outputs": [
    {
     "data": {
      "text/html": [
       "<div>\n",
       "<style scoped>\n",
       "    .dataframe tbody tr th:only-of-type {\n",
       "        vertical-align: middle;\n",
       "    }\n",
       "\n",
       "    .dataframe tbody tr th {\n",
       "        vertical-align: top;\n",
       "    }\n",
       "\n",
       "    .dataframe thead th {\n",
       "        text-align: right;\n",
       "    }\n",
       "</style>\n",
       "<table border=\"1\" class=\"dataframe\">\n",
       "  <thead>\n",
       "    <tr style=\"text-align: right;\">\n",
       "      <th></th>\n",
       "      <th>Cluster Labels</th>\n",
       "      <th>name</th>\n",
       "      <th>categories</th>\n",
       "      <th>lat</th>\n",
       "      <th>lng</th>\n",
       "    </tr>\n",
       "  </thead>\n",
       "  <tbody>\n",
       "    <tr>\n",
       "      <th>1</th>\n",
       "      <td>1</td>\n",
       "      <td>Les Trois Rois</td>\n",
       "      <td>French Restaurant</td>\n",
       "      <td>46.515515</td>\n",
       "      <td>6.631223</td>\n",
       "    </tr>\n",
       "    <tr>\n",
       "      <th>9</th>\n",
       "      <td>1</td>\n",
       "      <td>Au Chat Noir</td>\n",
       "      <td>French Restaurant</td>\n",
       "      <td>46.517539</td>\n",
       "      <td>6.637225</td>\n",
       "    </tr>\n",
       "    <tr>\n",
       "      <th>14</th>\n",
       "      <td>1</td>\n",
       "      <td>Côté Jardin, Lausanne Palace</td>\n",
       "      <td>French Restaurant</td>\n",
       "      <td>46.519336</td>\n",
       "      <td>6.630655</td>\n",
       "    </tr>\n",
       "    <tr>\n",
       "      <th>38</th>\n",
       "      <td>1</td>\n",
       "      <td>Brasserie du Royal</td>\n",
       "      <td>French Restaurant</td>\n",
       "      <td>46.511112</td>\n",
       "      <td>6.628675</td>\n",
       "    </tr>\n",
       "    <tr>\n",
       "      <th>43</th>\n",
       "      <td>1</td>\n",
       "      <td>Brasserie Grand-Chêne</td>\n",
       "      <td>French Restaurant</td>\n",
       "      <td>46.519709</td>\n",
       "      <td>6.631117</td>\n",
       "    </tr>\n",
       "  </tbody>\n",
       "</table>\n",
       "</div>"
      ],
      "text/plain": [
       "    Cluster Labels                          name         categories  \\\n",
       "1                1                Les Trois Rois  French Restaurant   \n",
       "9                1                  Au Chat Noir  French Restaurant   \n",
       "14               1  Côté Jardin, Lausanne Palace  French Restaurant   \n",
       "38               1            Brasserie du Royal  French Restaurant   \n",
       "43               1         Brasserie Grand-Chêne  French Restaurant   \n",
       "\n",
       "          lat       lng  \n",
       "1   46.515515  6.631223  \n",
       "9   46.517539  6.637225  \n",
       "14  46.519336  6.630655  \n",
       "38  46.511112  6.628675  \n",
       "43  46.519709  6.631117  "
      ]
     },
     "execution_count": 98,
     "metadata": {},
     "output_type": "execute_result"
    }
   ],
   "source": [
    "Cluster_one = nearby_venues.loc[nearby_venues['Cluster Labels'] == 1,]  # budapest_merged.columns[[0] + list(range(5, budapest_merged.shape[1]))]]\n",
    "\n",
    "Cluster_one.head()"
   ]
  },
  {
   "cell_type": "code",
   "execution_count": 99,
   "metadata": {},
   "outputs": [
    {
     "data": {
      "text/html": [
       "<div>\n",
       "<style scoped>\n",
       "    .dataframe tbody tr th:only-of-type {\n",
       "        vertical-align: middle;\n",
       "    }\n",
       "\n",
       "    .dataframe tbody tr th {\n",
       "        vertical-align: top;\n",
       "    }\n",
       "\n",
       "    .dataframe thead th {\n",
       "        text-align: right;\n",
       "    }\n",
       "</style>\n",
       "<table border=\"1\" class=\"dataframe\">\n",
       "  <thead>\n",
       "    <tr style=\"text-align: right;\">\n",
       "      <th></th>\n",
       "      <th>Cluster Labels</th>\n",
       "      <th>name</th>\n",
       "      <th>categories</th>\n",
       "      <th>lat</th>\n",
       "      <th>lng</th>\n",
       "    </tr>\n",
       "  </thead>\n",
       "  <tbody>\n",
       "    <tr>\n",
       "      <th>4</th>\n",
       "      <td>2</td>\n",
       "      <td>Les Gosses du Québec</td>\n",
       "      <td>Bar</td>\n",
       "      <td>46.517072</td>\n",
       "      <td>6.633122</td>\n",
       "    </tr>\n",
       "    <tr>\n",
       "      <th>5</th>\n",
       "      <td>2</td>\n",
       "      <td>Bar Tabac</td>\n",
       "      <td>Bar</td>\n",
       "      <td>46.518066</td>\n",
       "      <td>6.634775</td>\n",
       "    </tr>\n",
       "    <tr>\n",
       "      <th>18</th>\n",
       "      <td>2</td>\n",
       "      <td>Café des Artisans</td>\n",
       "      <td>Bar</td>\n",
       "      <td>46.520971</td>\n",
       "      <td>6.634413</td>\n",
       "    </tr>\n",
       "    <tr>\n",
       "      <th>28</th>\n",
       "      <td>2</td>\n",
       "      <td>Bourg Plage</td>\n",
       "      <td>Bar</td>\n",
       "      <td>46.521391</td>\n",
       "      <td>6.635939</td>\n",
       "    </tr>\n",
       "    <tr>\n",
       "      <th>41</th>\n",
       "      <td>2</td>\n",
       "      <td>La Louve</td>\n",
       "      <td>Bar</td>\n",
       "      <td>46.521081</td>\n",
       "      <td>6.632373</td>\n",
       "    </tr>\n",
       "  </tbody>\n",
       "</table>\n",
       "</div>"
      ],
      "text/plain": [
       "    Cluster Labels                  name categories        lat       lng\n",
       "4                2  Les Gosses du Québec        Bar  46.517072  6.633122\n",
       "5                2             Bar Tabac        Bar  46.518066  6.634775\n",
       "18               2     Café des Artisans        Bar  46.520971  6.634413\n",
       "28               2           Bourg Plage        Bar  46.521391  6.635939\n",
       "41               2              La Louve        Bar  46.521081  6.632373"
      ]
     },
     "execution_count": 99,
     "metadata": {},
     "output_type": "execute_result"
    }
   ],
   "source": [
    "Cluster_two = nearby_venues.loc[nearby_venues['Cluster Labels'] == 2,]  # budapest_merged.columns[[0] + list(range(5, budapest_merged.shape[1]))]]\n",
    "\n",
    "Cluster_two.head()"
   ]
  },
  {
   "cell_type": "code",
   "execution_count": 100,
   "metadata": {},
   "outputs": [
    {
     "data": {
      "text/html": [
       "<div>\n",
       "<style scoped>\n",
       "    .dataframe tbody tr th:only-of-type {\n",
       "        vertical-align: middle;\n",
       "    }\n",
       "\n",
       "    .dataframe tbody tr th {\n",
       "        vertical-align: top;\n",
       "    }\n",
       "\n",
       "    .dataframe thead th {\n",
       "        text-align: right;\n",
       "    }\n",
       "</style>\n",
       "<table border=\"1\" class=\"dataframe\">\n",
       "  <thead>\n",
       "    <tr style=\"text-align: right;\">\n",
       "      <th></th>\n",
       "      <th>Cluster Labels</th>\n",
       "      <th>name</th>\n",
       "      <th>categories</th>\n",
       "      <th>lat</th>\n",
       "      <th>lng</th>\n",
       "    </tr>\n",
       "  </thead>\n",
       "  <tbody>\n",
       "    <tr>\n",
       "      <th>50</th>\n",
       "      <td>3</td>\n",
       "      <td>Inglewood</td>\n",
       "      <td>Burger Joint</td>\n",
       "      <td>46.522353</td>\n",
       "      <td>6.631424</td>\n",
       "    </tr>\n",
       "    <tr>\n",
       "      <th>52</th>\n",
       "      <td>3</td>\n",
       "      <td>The Green Van Company</td>\n",
       "      <td>Burger Joint</td>\n",
       "      <td>46.521442</td>\n",
       "      <td>6.628072</td>\n",
       "    </tr>\n",
       "    <tr>\n",
       "      <th>76</th>\n",
       "      <td>3</td>\n",
       "      <td>Holy Cow!</td>\n",
       "      <td>Burger Joint</td>\n",
       "      <td>46.520243</td>\n",
       "      <td>6.636391</td>\n",
       "    </tr>\n",
       "    <tr>\n",
       "      <th>79</th>\n",
       "      <td>3</td>\n",
       "      <td>Holy Cow!</td>\n",
       "      <td>Burger Joint</td>\n",
       "      <td>46.522702</td>\n",
       "      <td>6.628219</td>\n",
       "    </tr>\n",
       "  </tbody>\n",
       "</table>\n",
       "</div>"
      ],
      "text/plain": [
       "    Cluster Labels                   name    categories        lat       lng\n",
       "50               3              Inglewood  Burger Joint  46.522353  6.631424\n",
       "52               3  The Green Van Company  Burger Joint  46.521442  6.628072\n",
       "76               3              Holy Cow!  Burger Joint  46.520243  6.636391\n",
       "79               3              Holy Cow!  Burger Joint  46.522702  6.628219"
      ]
     },
     "execution_count": 100,
     "metadata": {},
     "output_type": "execute_result"
    }
   ],
   "source": [
    "Cluster_three = nearby_venues.loc[nearby_venues['Cluster Labels'] == 3,]  # budapest_merged.columns[[0] + list(range(5, budapest_merged.shape[1]))]]\n",
    "\n",
    "Cluster_three.head()"
   ]
  },
  {
   "cell_type": "code",
   "execution_count": 101,
   "metadata": {},
   "outputs": [
    {
     "data": {
      "text/html": [
       "<div>\n",
       "<style scoped>\n",
       "    .dataframe tbody tr th:only-of-type {\n",
       "        vertical-align: middle;\n",
       "    }\n",
       "\n",
       "    .dataframe tbody tr th {\n",
       "        vertical-align: top;\n",
       "    }\n",
       "\n",
       "    .dataframe thead th {\n",
       "        text-align: right;\n",
       "    }\n",
       "</style>\n",
       "<table border=\"1\" class=\"dataframe\">\n",
       "  <thead>\n",
       "    <tr style=\"text-align: right;\">\n",
       "      <th></th>\n",
       "      <th>Cluster Labels</th>\n",
       "      <th>name</th>\n",
       "      <th>categories</th>\n",
       "      <th>lat</th>\n",
       "      <th>lng</th>\n",
       "    </tr>\n",
       "  </thead>\n",
       "  <tbody>\n",
       "    <tr>\n",
       "      <th>82</th>\n",
       "      <td>4</td>\n",
       "      <td>Cafe des Avenues</td>\n",
       "      <td>Café</td>\n",
       "      <td>46.511124</td>\n",
       "      <td>6.636754</td>\n",
       "    </tr>\n",
       "    <tr>\n",
       "      <th>89</th>\n",
       "      <td>4</td>\n",
       "      <td>TOM cafe</td>\n",
       "      <td>Café</td>\n",
       "      <td>46.508572</td>\n",
       "      <td>6.634084</td>\n",
       "    </tr>\n",
       "    <tr>\n",
       "      <th>96</th>\n",
       "      <td>4</td>\n",
       "      <td>Café de l'Evêché</td>\n",
       "      <td>Café</td>\n",
       "      <td>46.521798</td>\n",
       "      <td>6.635780</td>\n",
       "    </tr>\n",
       "    <tr>\n",
       "      <th>97</th>\n",
       "      <td>4</td>\n",
       "      <td>Café Beau-Rivage</td>\n",
       "      <td>Café</td>\n",
       "      <td>46.507793</td>\n",
       "      <td>6.630034</td>\n",
       "    </tr>\n",
       "    <tr>\n",
       "      <th>98</th>\n",
       "      <td>4</td>\n",
       "      <td>La Couronne d'Or</td>\n",
       "      <td>Café</td>\n",
       "      <td>46.524748</td>\n",
       "      <td>6.634094</td>\n",
       "    </tr>\n",
       "  </tbody>\n",
       "</table>\n",
       "</div>"
      ],
      "text/plain": [
       "    Cluster Labels              name categories        lat       lng\n",
       "82               4  Cafe des Avenues       Café  46.511124  6.636754\n",
       "89               4          TOM cafe       Café  46.508572  6.634084\n",
       "96               4  Café de l'Evêché       Café  46.521798  6.635780\n",
       "97               4  Café Beau-Rivage       Café  46.507793  6.630034\n",
       "98               4  La Couronne d'Or       Café  46.524748  6.634094"
      ]
     },
     "execution_count": 101,
     "metadata": {},
     "output_type": "execute_result"
    }
   ],
   "source": [
    "Cluster_four = nearby_venues.loc[nearby_venues['Cluster Labels'] == 4,]  # budapest_merged.columns[[0] + list(range(5, budapest_merged.shape[1]))]]\n",
    "\n",
    "Cluster_four.head()"
   ]
  },
  {
   "cell_type": "code",
   "execution_count": 102,
   "metadata": {},
   "outputs": [
    {
     "data": {
      "text/html": [
       "<div>\n",
       "<style scoped>\n",
       "    .dataframe tbody tr th:only-of-type {\n",
       "        vertical-align: middle;\n",
       "    }\n",
       "\n",
       "    .dataframe tbody tr th {\n",
       "        vertical-align: top;\n",
       "    }\n",
       "\n",
       "    .dataframe thead th {\n",
       "        text-align: right;\n",
       "    }\n",
       "</style>\n",
       "<table border=\"1\" class=\"dataframe\">\n",
       "  <thead>\n",
       "    <tr style=\"text-align: right;\">\n",
       "      <th></th>\n",
       "      <th>Cluster Labels</th>\n",
       "      <th>name</th>\n",
       "      <th>categories</th>\n",
       "      <th>lat</th>\n",
       "      <th>lng</th>\n",
       "    </tr>\n",
       "  </thead>\n",
       "  <tbody>\n",
       "    <tr>\n",
       "      <th>2</th>\n",
       "      <td>5</td>\n",
       "      <td>Pasta e Sfizi</td>\n",
       "      <td>Italian Restaurant</td>\n",
       "      <td>46.516374</td>\n",
       "      <td>6.633477</td>\n",
       "    </tr>\n",
       "    <tr>\n",
       "      <th>27</th>\n",
       "      <td>5</td>\n",
       "      <td>Le Milan</td>\n",
       "      <td>Italian Restaurant</td>\n",
       "      <td>46.516513</td>\n",
       "      <td>6.625852</td>\n",
       "    </tr>\n",
       "    <tr>\n",
       "      <th>36</th>\n",
       "      <td>5</td>\n",
       "      <td>Chez Mario</td>\n",
       "      <td>Italian Restaurant</td>\n",
       "      <td>46.520007</td>\n",
       "      <td>6.636311</td>\n",
       "    </tr>\n",
       "    <tr>\n",
       "      <th>49</th>\n",
       "      <td>5</td>\n",
       "      <td>Bruschetta</td>\n",
       "      <td>Italian Restaurant</td>\n",
       "      <td>46.517040</td>\n",
       "      <td>6.633437</td>\n",
       "    </tr>\n",
       "    <tr>\n",
       "      <th>72</th>\n",
       "      <td>5</td>\n",
       "      <td>Restaurant Piazza San Marco</td>\n",
       "      <td>Italian Restaurant</td>\n",
       "      <td>46.511821</td>\n",
       "      <td>6.629203</td>\n",
       "    </tr>\n",
       "  </tbody>\n",
       "</table>\n",
       "</div>"
      ],
      "text/plain": [
       "    Cluster Labels                         name          categories  \\\n",
       "2                5                Pasta e Sfizi  Italian Restaurant   \n",
       "27               5                     Le Milan  Italian Restaurant   \n",
       "36               5                   Chez Mario  Italian Restaurant   \n",
       "49               5                   Bruschetta  Italian Restaurant   \n",
       "72               5  Restaurant Piazza San Marco  Italian Restaurant   \n",
       "\n",
       "          lat       lng  \n",
       "2   46.516374  6.633477  \n",
       "27  46.516513  6.625852  \n",
       "36  46.520007  6.636311  \n",
       "49  46.517040  6.633437  \n",
       "72  46.511821  6.629203  "
      ]
     },
     "execution_count": 102,
     "metadata": {},
     "output_type": "execute_result"
    }
   ],
   "source": [
    "Cluster_five = nearby_venues.loc[nearby_venues['Cluster Labels'] == 5,]  # budapest_merged.columns[[0] + list(range(5, budapest_merged.shape[1]))]]\n",
    "\n",
    "Cluster_five.head()"
   ]
  },
  {
   "cell_type": "code",
   "execution_count": 103,
   "metadata": {},
   "outputs": [
    {
     "data": {
      "text/html": [
       "<div>\n",
       "<style scoped>\n",
       "    .dataframe tbody tr th:only-of-type {\n",
       "        vertical-align: middle;\n",
       "    }\n",
       "\n",
       "    .dataframe tbody tr th {\n",
       "        vertical-align: top;\n",
       "    }\n",
       "\n",
       "    .dataframe thead th {\n",
       "        text-align: right;\n",
       "    }\n",
       "</style>\n",
       "<table border=\"1\" class=\"dataframe\">\n",
       "  <thead>\n",
       "    <tr style=\"text-align: right;\">\n",
       "      <th></th>\n",
       "      <th>Cluster Labels</th>\n",
       "      <th>name</th>\n",
       "      <th>categories</th>\n",
       "      <th>lat</th>\n",
       "      <th>lng</th>\n",
       "    </tr>\n",
       "  </thead>\n",
       "  <tbody>\n",
       "    <tr>\n",
       "      <th>16</th>\n",
       "      <td>6</td>\n",
       "      <td>Eat Me</td>\n",
       "      <td>Restaurant</td>\n",
       "      <td>46.520266</td>\n",
       "      <td>6.632343</td>\n",
       "    </tr>\n",
       "    <tr>\n",
       "      <th>24</th>\n",
       "      <td>6</td>\n",
       "      <td>Restaurant de la Croix d'Ouchy</td>\n",
       "      <td>Restaurant</td>\n",
       "      <td>46.511672</td>\n",
       "      <td>6.629726</td>\n",
       "    </tr>\n",
       "    <tr>\n",
       "      <th>29</th>\n",
       "      <td>6</td>\n",
       "      <td>Luigia</td>\n",
       "      <td>Restaurant</td>\n",
       "      <td>46.519622</td>\n",
       "      <td>6.637160</td>\n",
       "    </tr>\n",
       "    <tr>\n",
       "      <th>81</th>\n",
       "      <td>6</td>\n",
       "      <td>Anne-Sophie Pic</td>\n",
       "      <td>Restaurant</td>\n",
       "      <td>46.507782</td>\n",
       "      <td>6.630619</td>\n",
       "    </tr>\n",
       "  </tbody>\n",
       "</table>\n",
       "</div>"
      ],
      "text/plain": [
       "    Cluster Labels                            name  categories        lat  \\\n",
       "16               6                          Eat Me  Restaurant  46.520266   \n",
       "24               6  Restaurant de la Croix d'Ouchy  Restaurant  46.511672   \n",
       "29               6                          Luigia  Restaurant  46.519622   \n",
       "81               6                 Anne-Sophie Pic  Restaurant  46.507782   \n",
       "\n",
       "         lng  \n",
       "16  6.632343  \n",
       "24  6.629726  \n",
       "29  6.637160  \n",
       "81  6.630619  "
      ]
     },
     "execution_count": 103,
     "metadata": {},
     "output_type": "execute_result"
    }
   ],
   "source": [
    "Cluster_six = nearby_venues.loc[nearby_venues['Cluster Labels'] == 6,]  # budapest_merged.columns[[0] + list(range(5, budapest_merged.shape[1]))]]\n",
    "\n",
    "Cluster_six.head()"
   ]
  },
  {
   "cell_type": "markdown",
   "metadata": {},
   "source": [
    "# Conclusions"
   ]
  },
  {
   "cell_type": "markdown",
   "metadata": {},
   "source": [
    "We see that kmeans divided the places into clusters of restaurants, bars, cafes, fast food places and miscellaneaous. \n",
    "\n",
    "In this case, as an example, the cluster most suitable for a student to live close could be in the cluster 2 or 3. This is because students love to hang out with friends outside and usually have a low budget."
   ]
  },
  {
   "cell_type": "code",
   "execution_count": null,
   "metadata": {},
   "outputs": [],
   "source": []
  }
 ],
 "metadata": {
  "kernelspec": {
   "display_name": "Python 3",
   "language": "python",
   "name": "python3"
  },
  "language_info": {
   "codemirror_mode": {
    "name": "ipython",
    "version": 3
   },
   "file_extension": ".py",
   "mimetype": "text/x-python",
   "name": "python",
   "nbconvert_exporter": "python",
   "pygments_lexer": "ipython3",
   "version": "3.8.3"
  }
 },
 "nbformat": 4,
 "nbformat_minor": 4
}
